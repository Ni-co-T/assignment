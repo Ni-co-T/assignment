{
 "cells": [
  {
   "cell_type": "markdown",
   "id": "c172bdaa-c7fd-4b6f-8eec-bb249ce0724b",
   "metadata": {},
   "source": [
    "# Data Science Tools and Ecosystem"
   ]
  },
  {
   "cell_type": "markdown",
   "id": "6fc3f4d4-23c8-4b07-a69f-86fd41453cb3",
   "metadata": {},
   "source": [
    "In this notebook, Data Science Tools and Ecosystem are summarized."
   ]
  },
  {
   "cell_type": "markdown",
   "id": "f082b1d4-49d9-49a1-8231-5fa72b3dd128",
   "metadata": {},
   "source": [
    "**Objectives:**\n",
    "+ Popular languages list\n",
    "+ Most commonly used libraries\n",
    "+ Well known Data science tools"
   ]
  },
  {
   "cell_type": "markdown",
   "id": "77d9843b-ae81-4d98-9d69-3fd42a8406c0",
   "metadata": {},
   "source": [
    "Some of the popular programming language in Data Science are :\n",
    "1. **Python**\n",
    "2. **R**\n",
    "3. **SQL**\n",
    "4. Scala\n",
    "5. Java\n",
    "6. C++\n",
    "7. julia"
   ]
  },
  {
   "cell_type": "markdown",
   "id": "7cdf1714-7c9a-46a4-b64c-1dac42ed6f66",
   "metadata": {},
   "source": [
    "Some of the commonly used libraries used by Data Scientists include (italic for AI) :\n",
    "1. Pandas\n",
    "2. NumPy\n",
    "3. SciPy\n",
    "4. Matplotlib\n",
    "5. _TensorFlow_\n",
    "6. _PyTorch_\n",
    "7. _Keras_\n",
    "8. _Scikit-learn_"
   ]
  },
  {
   "cell_type": "markdown",
   "id": "1ee5f39d-0b79-4637-ae6a-f6db582081b4",
   "metadata": {},
   "source": [
    "| Data Science Tools |\n",
    "| ------------------ |\n",
    "| Jupyter notebook |\n",
    "| Apache Hadoop |\n",
    "| Apache Spark |\n",
    "| Rstudio |\n",
    "\n"
   ]
  },
  {
   "cell_type": "markdown",
   "id": "c5fe7710-f5e8-437d-a108-01538d6016f4",
   "metadata": {},
   "source": [
    "### Below are a few examples of evaluating arithmetic expressions in Python ###"
   ]
  },
  {
   "cell_type": "code",
   "execution_count": 15,
   "id": "12fe57d1-9a00-4d76-abfb-3be7e414b684",
   "metadata": {},
   "outputs": [
    {
     "data": {
      "text/plain": [
       "17"
      ]
     },
     "execution_count": 15,
     "metadata": {},
     "output_type": "execute_result"
    }
   ],
   "source": [
    "# This a simple arithmetic expression to mutiply then add integers\n",
    "(3*4)+5"
   ]
  },
  {
   "cell_type": "code",
   "execution_count": 17,
   "id": "4b50c666-027e-4d65-87e1-075cbdc3d055",
   "metadata": {},
   "outputs": [
    {
     "data": {
      "text/plain": [
       "3.3333333333333335"
      ]
     },
     "execution_count": 17,
     "metadata": {},
     "output_type": "execute_result"
    }
   ],
   "source": [
    "# This will convert 200 minutes to hours by diving by 60\n",
    "200/60"
   ]
  },
  {
   "cell_type": "markdown",
   "id": "80eada22-0cf5-4e11-8988-3117c646a6a4",
   "metadata": {},
   "source": [
    "## Author ##\n",
    "Nicolas Touzeau"
   ]
  }
 ],
 "metadata": {
  "kernelspec": {
   "display_name": "Python 3 (ipykernel)",
   "language": "python",
   "name": "python3"
  },
  "language_info": {
   "codemirror_mode": {
    "name": "ipython",
    "version": 3
   },
   "file_extension": ".py",
   "mimetype": "text/x-python",
   "name": "python",
   "nbconvert_exporter": "python",
   "pygments_lexer": "ipython3",
   "version": "3.12.4"
  }
 },
 "nbformat": 4,
 "nbformat_minor": 5
}
